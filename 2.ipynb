{
 "cells": [
  {
   "cell_type": "code",
   "execution_count": 25,
   "id": "f8b48b16-ffff-41e0-a072-439e462f489b",
   "metadata": {},
   "outputs": [],
   "source": [
    "from impala.dbapi import connect\n",
    "import pandas as pd\n",
    "import matplotlib.pyplot as plt\n",
    "import seaborn as sns\n",
    "\n",
    "\n",
    "conn = connect(\n",
    "    host='127.0.0.1',\n",
    "    port=10000,\n",
    "    user='maria_dev',\n",
    "    database='default',\n",
    "    auth_mechanism='PLAIN'\n",
    ")\n",
    "cursor = conn.cursor()\n",
    "\n"
   ]
  },
  {
   "cell_type": "code",
   "execution_count": 26,
   "id": "74fcfff4-96b8-4248-a0f7-0dbf45f8af2b",
   "metadata": {},
   "outputs": [
    {
     "data": {
      "text/html": [
       "<div>\n",
       "<style scoped>\n",
       "    .dataframe tbody tr th:only-of-type {\n",
       "        vertical-align: middle;\n",
       "    }\n",
       "\n",
       "    .dataframe tbody tr th {\n",
       "        vertical-align: top;\n",
       "    }\n",
       "\n",
       "    .dataframe thead th {\n",
       "        text-align: right;\n",
       "    }\n",
       "</style>\n",
       "<table border=\"1\" class=\"dataframe\">\n",
       "  <thead>\n",
       "    <tr style=\"text-align: right;\">\n",
       "      <th></th>\n",
       "      <th>DelayType</th>\n",
       "      <th>TotalDelay</th>\n",
       "      <th>DelayCount</th>\n",
       "      <th>AvgDelay</th>\n",
       "    </tr>\n",
       "  </thead>\n",
       "  <tbody>\n",
       "    <tr>\n",
       "      <th>0</th>\n",
       "      <td>CarrierDelay</td>\n",
       "      <td>24255294.0</td>\n",
       "      <td>718349</td>\n",
       "      <td>33.77</td>\n",
       "    </tr>\n",
       "  </tbody>\n",
       "</table>\n",
       "</div>"
      ],
      "text/plain": [
       "      DelayType  TotalDelay  DelayCount  AvgDelay\n",
       "0  CarrierDelay  24255294.0      718349     33.77"
      ]
     },
     "execution_count": 26,
     "metadata": {},
     "output_type": "execute_result"
    }
   ],
   "source": [
    "#Step 1.1：查询 CarrierDelay（航司自身原因） 的总延误分钟数、次数和平均值\n",
    "sql_carrier = \"\"\"\n",
    "SELECT\n",
    "    'CarrierDelay' AS DelayType,\n",
    "    SUM(CarrierDelay) AS TotalDelay,\n",
    "    COUNT(*) AS DelayCount,\n",
    "    ROUND(AVG(CarrierDelay), 2) AS AvgDelay\n",
    "FROM flight_data\n",
    "WHERE CarrierDelay > 0\n",
    "\"\"\"\n",
    "cursor.execute(sql_carrier)\n",
    "df_carrier = pd.DataFrame(cursor.fetchall(), columns=[\"DelayType\", \"TotalDelay\", \"DelayCount\", \"AvgDelay\"])\n",
    "df_carrier\n"
   ]
  },
  {
   "cell_type": "code",
   "execution_count": 27,
   "id": "16db9baa-4626-4599-9119-67fba41254c2",
   "metadata": {},
   "outputs": [
    {
     "data": {
      "text/html": [
       "<div>\n",
       "<style scoped>\n",
       "    .dataframe tbody tr th:only-of-type {\n",
       "        vertical-align: middle;\n",
       "    }\n",
       "\n",
       "    .dataframe tbody tr th {\n",
       "        vertical-align: top;\n",
       "    }\n",
       "\n",
       "    .dataframe thead th {\n",
       "        text-align: right;\n",
       "    }\n",
       "</style>\n",
       "<table border=\"1\" class=\"dataframe\">\n",
       "  <thead>\n",
       "    <tr style=\"text-align: right;\">\n",
       "      <th></th>\n",
       "      <th>DelayType</th>\n",
       "      <th>TotalDelay</th>\n",
       "      <th>DelayCount</th>\n",
       "      <th>AvgDelay</th>\n",
       "    </tr>\n",
       "  </thead>\n",
       "  <tbody>\n",
       "    <tr>\n",
       "      <th>0</th>\n",
       "      <td>WeatherDelay</td>\n",
       "      <td>4853843.0</td>\n",
       "      <td>113743</td>\n",
       "      <td>42.67</td>\n",
       "    </tr>\n",
       "  </tbody>\n",
       "</table>\n",
       "</div>"
      ],
      "text/plain": [
       "      DelayType  TotalDelay  DelayCount  AvgDelay\n",
       "0  WeatherDelay   4853843.0      113743     42.67"
      ]
     },
     "execution_count": 27,
     "metadata": {},
     "output_type": "execute_result"
    }
   ],
   "source": [
    "#Step 1.2：查询 WeatherDelay（天气） 延误情况\n",
    "sql_weather = \"\"\"\n",
    "SELECT\n",
    "    'WeatherDelay' AS DelayType,\n",
    "    SUM(WeatherDelay) AS TotalDelay,\n",
    "    COUNT(*) AS DelayCount,\n",
    "    ROUND(AVG(WeatherDelay), 2) AS AvgDelay\n",
    "FROM flight_data\n",
    "WHERE WeatherDelay > 0\n",
    "\"\"\"\n",
    "cursor.execute(sql_weather)\n",
    "df_weather = pd.DataFrame(cursor.fetchall(), columns=[\"DelayType\", \"TotalDelay\", \"DelayCount\", \"AvgDelay\"])\n",
    "df_weather\n"
   ]
  },
  {
   "cell_type": "code",
   "execution_count": 28,
   "id": "dfd9832c-adbe-4e48-8d52-2989df7bab04",
   "metadata": {},
   "outputs": [
    {
     "data": {
      "text/html": [
       "<div>\n",
       "<style scoped>\n",
       "    .dataframe tbody tr th:only-of-type {\n",
       "        vertical-align: middle;\n",
       "    }\n",
       "\n",
       "    .dataframe tbody tr th {\n",
       "        vertical-align: top;\n",
       "    }\n",
       "\n",
       "    .dataframe thead th {\n",
       "        text-align: right;\n",
       "    }\n",
       "</style>\n",
       "<table border=\"1\" class=\"dataframe\">\n",
       "  <thead>\n",
       "    <tr style=\"text-align: right;\">\n",
       "      <th></th>\n",
       "      <th>DelayType</th>\n",
       "      <th>TotalDelay</th>\n",
       "      <th>DelayCount</th>\n",
       "      <th>AvgDelay</th>\n",
       "    </tr>\n",
       "  </thead>\n",
       "  <tbody>\n",
       "    <tr>\n",
       "      <th>0</th>\n",
       "      <td>NASDelay</td>\n",
       "      <td>25610715.0</td>\n",
       "      <td>941866</td>\n",
       "      <td>27.19</td>\n",
       "    </tr>\n",
       "  </tbody>\n",
       "</table>\n",
       "</div>"
      ],
      "text/plain": [
       "  DelayType  TotalDelay  DelayCount  AvgDelay\n",
       "0  NASDelay  25610715.0      941866     27.19"
      ]
     },
     "execution_count": 28,
     "metadata": {},
     "output_type": "execute_result"
    }
   ],
   "source": [
    "# Step 1.3：查询 NASDelay（空管/国家系统） 延误情况\n",
    "sql_nas = \"\"\"\n",
    "SELECT\n",
    "    'NASDelay' AS DelayType,\n",
    "    SUM(NASDelay) AS TotalDelay,\n",
    "    COUNT(*) AS DelayCount,\n",
    "    ROUND(AVG(NASDelay), 2) AS AvgDelay\n",
    "FROM flight_data\n",
    "WHERE NASDelay > 0\n",
    "\"\"\"\n",
    "cursor.execute(sql_nas)\n",
    "df_nas = pd.DataFrame(cursor.fetchall(), columns=[\"DelayType\", \"TotalDelay\", \"DelayCount\", \"AvgDelay\"])\n",
    "df_nas\n"
   ]
  },
  {
   "cell_type": "code",
   "execution_count": 29,
   "id": "9b3a720f-6ac6-49b9-bd07-f88df0698a58",
   "metadata": {},
   "outputs": [
    {
     "data": {
      "text/html": [
       "<div>\n",
       "<style scoped>\n",
       "    .dataframe tbody tr th:only-of-type {\n",
       "        vertical-align: middle;\n",
       "    }\n",
       "\n",
       "    .dataframe tbody tr th {\n",
       "        vertical-align: top;\n",
       "    }\n",
       "\n",
       "    .dataframe thead th {\n",
       "        text-align: right;\n",
       "    }\n",
       "</style>\n",
       "<table border=\"1\" class=\"dataframe\">\n",
       "  <thead>\n",
       "    <tr style=\"text-align: right;\">\n",
       "      <th></th>\n",
       "      <th>DelayType</th>\n",
       "      <th>TotalDelay</th>\n",
       "      <th>DelayCount</th>\n",
       "      <th>AvgDelay</th>\n",
       "    </tr>\n",
       "  </thead>\n",
       "  <tbody>\n",
       "    <tr>\n",
       "      <th>0</th>\n",
       "      <td>SecurityDelay</td>\n",
       "      <td>221371.0</td>\n",
       "      <td>10673</td>\n",
       "      <td>20.74</td>\n",
       "    </tr>\n",
       "  </tbody>\n",
       "</table>\n",
       "</div>"
      ],
      "text/plain": [
       "       DelayType  TotalDelay  DelayCount  AvgDelay\n",
       "0  SecurityDelay    221371.0       10673     20.74"
      ]
     },
     "execution_count": 29,
     "metadata": {},
     "output_type": "execute_result"
    }
   ],
   "source": [
    "#Step 1.4：查询 SecurityDelay（安全检查） 延误情况\n",
    "sql_security = \"\"\"\n",
    "SELECT\n",
    "    'SecurityDelay' AS DelayType,\n",
    "    SUM(SecurityDelay) AS TotalDelay,\n",
    "    COUNT(*) AS DelayCount,\n",
    "    ROUND(AVG(SecurityDelay), 2) AS AvgDelay\n",
    "FROM flight_data\n",
    "WHERE SecurityDelay > 0\n",
    "\"\"\"\n",
    "cursor.execute(sql_security)\n",
    "df_security = pd.DataFrame(cursor.fetchall(), columns=[\"DelayType\", \"TotalDelay\", \"DelayCount\", \"AvgDelay\"])\n",
    "df_security\n"
   ]
  },
  {
   "cell_type": "code",
   "execution_count": 30,
   "id": "457eb761-7197-4f0a-81bb-7f0a4b02e833",
   "metadata": {},
   "outputs": [
    {
     "data": {
      "text/html": [
       "<div>\n",
       "<style scoped>\n",
       "    .dataframe tbody tr th:only-of-type {\n",
       "        vertical-align: middle;\n",
       "    }\n",
       "\n",
       "    .dataframe tbody tr th {\n",
       "        vertical-align: top;\n",
       "    }\n",
       "\n",
       "    .dataframe thead th {\n",
       "        text-align: right;\n",
       "    }\n",
       "</style>\n",
       "<table border=\"1\" class=\"dataframe\">\n",
       "  <thead>\n",
       "    <tr style=\"text-align: right;\">\n",
       "      <th></th>\n",
       "      <th>DelayType</th>\n",
       "      <th>TotalDelay</th>\n",
       "      <th>DelayCount</th>\n",
       "      <th>AvgDelay</th>\n",
       "    </tr>\n",
       "  </thead>\n",
       "  <tbody>\n",
       "    <tr>\n",
       "      <th>0</th>\n",
       "      <td>LateAircraftDelay</td>\n",
       "      <td>32245816.0</td>\n",
       "      <td>731324</td>\n",
       "      <td>44.09</td>\n",
       "    </tr>\n",
       "  </tbody>\n",
       "</table>\n",
       "</div>"
      ],
      "text/plain": [
       "           DelayType  TotalDelay  DelayCount  AvgDelay\n",
       "0  LateAircraftDelay  32245816.0      731324     44.09"
      ]
     },
     "execution_count": 30,
     "metadata": {},
     "output_type": "execute_result"
    }
   ],
   "source": [
    "#Step 1.5：查询 LateAircraftDelay（前序航班延误） 情况\n",
    "sql_late = \"\"\"\n",
    "SELECT\n",
    "    'LateAircraftDelay' AS DelayType,\n",
    "    SUM(LateAircraftDelay) AS TotalDelay,\n",
    "    COUNT(*) AS DelayCount,\n",
    "    ROUND(AVG(LateAircraftDelay), 2) AS AvgDelay\n",
    "FROM flight_data\n",
    "WHERE LateAircraftDelay > 0\n",
    "\"\"\"\n",
    "cursor.execute(sql_late)\n",
    "df_late = pd.DataFrame(cursor.fetchall(), columns=[\"DelayType\", \"TotalDelay\", \"DelayCount\", \"AvgDelay\"])\n",
    "df_late\n"
   ]
  },
  {
   "cell_type": "code",
   "execution_count": 31,
   "id": "f562aa82-0159-444a-86fd-509ad2161366",
   "metadata": {},
   "outputs": [
    {
     "data": {
      "text/html": [
       "<div>\n",
       "<style scoped>\n",
       "    .dataframe tbody tr th:only-of-type {\n",
       "        vertical-align: middle;\n",
       "    }\n",
       "\n",
       "    .dataframe tbody tr th {\n",
       "        vertical-align: top;\n",
       "    }\n",
       "\n",
       "    .dataframe thead th {\n",
       "        text-align: right;\n",
       "    }\n",
       "</style>\n",
       "<table border=\"1\" class=\"dataframe\">\n",
       "  <thead>\n",
       "    <tr style=\"text-align: right;\">\n",
       "      <th></th>\n",
       "      <th>DelayType</th>\n",
       "      <th>TotalDelay</th>\n",
       "      <th>DelayCount</th>\n",
       "      <th>AvgDelay</th>\n",
       "    </tr>\n",
       "  </thead>\n",
       "  <tbody>\n",
       "    <tr>\n",
       "      <th>0</th>\n",
       "      <td>LateAircraftDelay</td>\n",
       "      <td>32245816.0</td>\n",
       "      <td>731324.0</td>\n",
       "      <td>44.09</td>\n",
       "    </tr>\n",
       "    <tr>\n",
       "      <th>1</th>\n",
       "      <td>NASDelay</td>\n",
       "      <td>25610715.0</td>\n",
       "      <td>941866.0</td>\n",
       "      <td>27.19</td>\n",
       "    </tr>\n",
       "    <tr>\n",
       "      <th>2</th>\n",
       "      <td>CarrierDelay</td>\n",
       "      <td>24255294.0</td>\n",
       "      <td>718349.0</td>\n",
       "      <td>33.77</td>\n",
       "    </tr>\n",
       "    <tr>\n",
       "      <th>3</th>\n",
       "      <td>WeatherDelay</td>\n",
       "      <td>4853843.0</td>\n",
       "      <td>113743.0</td>\n",
       "      <td>42.67</td>\n",
       "    </tr>\n",
       "    <tr>\n",
       "      <th>4</th>\n",
       "      <td>SecurityDelay</td>\n",
       "      <td>221371.0</td>\n",
       "      <td>10673.0</td>\n",
       "      <td>20.74</td>\n",
       "    </tr>\n",
       "  </tbody>\n",
       "</table>\n",
       "</div>"
      ],
      "text/plain": [
       "           DelayType  TotalDelay  DelayCount  AvgDelay\n",
       "0  LateAircraftDelay  32245816.0    731324.0     44.09\n",
       "1           NASDelay  25610715.0    941866.0     27.19\n",
       "2       CarrierDelay  24255294.0    718349.0     33.77\n",
       "3       WeatherDelay   4853843.0    113743.0     42.67\n",
       "4      SecurityDelay    221371.0     10673.0     20.74"
      ]
     },
     "execution_count": 31,
     "metadata": {},
     "output_type": "execute_result"
    }
   ],
   "source": [
    "df_causes = pd.concat([df_carrier, df_weather, df_nas, df_security, df_late], ignore_index=True)\n",
    "df_causes[[\"TotalDelay\", \"DelayCount\", \"AvgDelay\"]] = df_causes[[\"TotalDelay\", \"DelayCount\", \"AvgDelay\"]].astype(float)\n",
    "df_causes = df_causes.sort_values(by=\"TotalDelay\", ascending=False).reset_index(drop=True)\n",
    "df_causes\n",
    "\n"
   ]
  },
  {
   "cell_type": "code",
   "execution_count": 32,
   "id": "f882fe6a-67ec-4a6a-a99c-b6c7e971624d",
   "metadata": {},
   "outputs": [
    {
     "name": "stderr",
     "output_type": "stream",
     "text": [
      "C:\\Users\\PC - MAKMAL DELTA\\AppData\\Local\\Temp\\ipykernel_13180\\3419701986.py:3: FutureWarning: \n",
      "\n",
      "Passing `palette` without assigning `hue` is deprecated and will be removed in v0.14.0. Assign the `x` variable to `hue` and set `legend=False` for the same effect.\n",
      "\n",
      "  ax = sns.barplot(x=\"DelayType\", y=\"TotalDelay\", data=df_causes, palette=\"Set2\")\n"
     ]
    },
    {
     "data": {
      "image/png": "[encoded data removed]",
      "text/plain": [
       "<Figure size 1000x600 with 1 Axes>"
      ]
     },
     "metadata": {},
     "output_type": "display_data"
    }
   ],
   "source": [
    "# Step 2：可视化 — 各类延误类型总时间对比\n",
    "plt.figure(figsize=(10, 6))\n",
    "ax = sns.barplot(x=\"DelayType\", y=\"TotalDelay\", data=df_causes, palette=\"Set2\")\n",
    "\n",
    "for i, row in df_causes.iterrows():\n",
    "    ax.text(i, row[\"TotalDelay\"] + 5000, f\"{int(row['TotalDelay'])}\", ha='center', fontsize=9)\n",
    "\n",
    "plt.title(\"Total Delay Time by Cause (in Minutes)\", fontsize=14)\n",
    "plt.xlabel(\"Delay Cause\", fontsize=12)\n",
    "plt.ylabel(\"Total Delay (minutes)\", fontsize=12)\n",
    "plt.grid(axis='y', linestyle='--', alpha=0.7)\n",
    "plt.tight_layout()\n",
    "plt.show()\n"
   ]
  },
  {
   "cell_type": "code",
   "execution_count": 33,
   "id": "aa2c6bfc-ffb8-4899-a34a-6c35977d6c24",
   "metadata": {},
   "outputs": [
    {
     "name": "stderr",
     "output_type": "stream",
     "text": [
      "C:\\Users\\PC - MAKMAL DELTA\\AppData\\Local\\Temp\\ipykernel_13180\\1135602670.py:5: FutureWarning: \n",
      "\n",
      "Passing `palette` without assigning `hue` is deprecated and will be removed in v0.14.0. Assign the `x` variable to `hue` and set `legend=False` for the same effect.\n",
      "\n",
      "  ax = sns.barplot(x=\"DelayType\", y=\"DelayCount\", data=df_sorted_by_count, palette=\"muted\")\n"
     ]
    },
    {
     "data": {
      "image/png": "[encoded data removed]",
      "text/plain": [
       "<Figure size 1000x600 with 1 Axes>"
      ]
     },
     "metadata": {},
     "output_type": "display_data"
    }
   ],
   "source": [
    "#Step 3：可视化 — 延误频率（发生次数）\n",
    "df_sorted_by_count = df_causes.sort_values(by=\"DelayCount\", ascending=False)\n",
    "\n",
    "plt.figure(figsize=(10, 6))\n",
    "ax = sns.barplot(x=\"DelayType\", y=\"DelayCount\", data=df_sorted_by_count, palette=\"muted\")\n",
    "\n",
    "for i, row in df_sorted_by_count.iterrows():\n",
    "    ax.text(i, row[\"DelayCount\"] + 500, f\"{int(row['DelayCount'])}\", ha='center', fontsize=9)\n",
    "\n",
    "plt.title(\"Frequency of Delay Events by Cause\", fontsize=14)\n",
    "plt.xlabel(\"Delay Cause\", fontsize=12)\n",
    "plt.ylabel(\"Number of Events\", fontsize=12)\n",
    "plt.grid(axis='y', linestyle='--', alpha=0.7)\n",
    "plt.tight_layout()\n",
    "plt.show()\n"
   ]
  },
  {
   "cell_type": "code",
   "execution_count": 34,
   "id": "ace12ba7-3dd1-4e6e-9ac6-6c2ed5d5c740",
   "metadata": {},
   "outputs": [
    {
     "ename": "NameError",
     "evalue": "name 'df_sorted_by_avg' is not defined",
     "output_type": "error",
     "traceback": [
      "\u001b[1;31m---------------------------------------------------------------------------\u001b[0m",
      "\u001b[1;31mNameError\u001b[0m                                 Traceback (most recent call last)",
      "Cell \u001b[1;32mIn[34], line 3\u001b[0m\n\u001b[0;32m      1\u001b[0m \u001b[38;5;66;03m#Step 4：可视化 — 平均单次延误时间\u001b[39;00m\n\u001b[0;32m      2\u001b[0m plt\u001b[38;5;241m.\u001b[39mfigure(figsize\u001b[38;5;241m=\u001b[39m(\u001b[38;5;241m10\u001b[39m, \u001b[38;5;241m6\u001b[39m))\n\u001b[1;32m----> 3\u001b[0m ax \u001b[38;5;241m=\u001b[39m sns\u001b[38;5;241m.\u001b[39mbarplot(x\u001b[38;5;241m=\u001b[39m\u001b[38;5;124m\"\u001b[39m\u001b[38;5;124mDelayType\u001b[39m\u001b[38;5;124m\"\u001b[39m, y\u001b[38;5;241m=\u001b[39m\u001b[38;5;124m\"\u001b[39m\u001b[38;5;124mAvgDelay\u001b[39m\u001b[38;5;124m\"\u001b[39m, data\u001b[38;5;241m=\u001b[39mdf_sorted_by_avg, palette\u001b[38;5;241m=\u001b[39m\u001b[38;5;124m\"\u001b[39m\u001b[38;5;124mBlues_d\u001b[39m\u001b[38;5;124m\"\u001b[39m)\n\u001b[0;32m      5\u001b[0m \u001b[38;5;28;01mfor\u001b[39;00m bar, row \u001b[38;5;129;01min\u001b[39;00m \u001b[38;5;28mzip\u001b[39m(ax\u001b[38;5;241m.\u001b[39mpatches, df_sorted_by_avg\u001b[38;5;241m.\u001b[39mitertuples()):\n\u001b[0;32m      6\u001b[0m     x \u001b[38;5;241m=\u001b[39m bar\u001b[38;5;241m.\u001b[39mget_x() \u001b[38;5;241m+\u001b[39m bar\u001b[38;5;241m.\u001b[39mget_width() \u001b[38;5;241m/\u001b[39m \u001b[38;5;241m2\u001b[39m\n",
      "\u001b[1;31mNameError\u001b[0m: name 'df_sorted_by_avg' is not defined"
     ]
    },
    {
     "data": {
      "text/plain": [
       "<Figure size 1000x600 with 0 Axes>"
      ]
     },
     "metadata": {},
     "output_type": "display_data"
    }
   ],
   "source": [
    "#Step 4：可视化 — 平均单次延误时间\n",
    "plt.figure(figsize=(10, 6))\n",
    "ax = sns.barplot(x=\"DelayType\", y=\"AvgDelay\", data=df_sorted_by_avg, palette=\"Blues_d\")\n",
    "\n",
    "for bar, row in zip(ax.patches, df_sorted_by_avg.itertuples()):\n",
    "    x = bar.get_x() + bar.get_width() / 2\n",
    "    y = bar.get_height()\n",
    "    ax.text(x, y + 1, f\"{row.AvgDelay:.1f}\", ha='center', va='bottom', fontsize=9)\n",
    "\n",
    "plt.title(\"Average Delay Time per Event by Cause\", fontsize=14)\n",
    "plt.xlabel(\"Delay Cause\", fontsize=12)\n",
    "plt.ylabel(\"Average Delay per Event (minutes)\", fontsize=12)\n",
    "plt.grid(axis='y', linestyle='--', alpha=0.7)\n",
    "plt.tight_layout()\n",
    "plt.show()\n",
    "\n"
   ]
  },
  {
   "cell_type": "markdown",
   "id": "91b06183-23e1-476d-b545-63098c22450d",
   "metadata": {},
   "source": [
    "### Observation 4: Multi-Dimensional Delay Cause Analysis\n",
    "\n",
    "This analysis evaluates delay causes across three metrics: total delay time, frequency, and average delay per event.\n",
    "\n",
    "1. **Total Delay Time** (impact-based):\n",
    "   - **Late Aircraft Delay** is by far the most impactful, with over 5 million minutes of total delay. This indicates a strong **delay propagation effect**, where one late flight delays the next.\n",
    "   - **NAS Delay** is second, pointing to congestion and inefficiencies in the air traffic control system.\n",
    "   - **Carrier Delay** follows, due to internal scheduling or turnaround issues.\n",
    "\n",
    "2. **Delay Frequency** (how often each cause occurs):\n",
    "   - **Carrier Delay** is the most frequent, suggesting airlines struggle with internal logistics.\n",
    "   - **NAS Delay** and **Late Aircraft Delay** are also frequent, indicating systemic congestion.\n",
    "\n",
    "3. **Average Delay per Event** (severity of each occurrence):\n",
    "   - **Weather Delay** has the highest average delay per event (~35 minutes), reflecting that while rare, weather events are highly disruptive.\n",
    "   - **Security Delay**, though least frequent, has non-negligible average duration.\n",
    "\n",
    "**Conclusion:**  \n",
    "The most critical causes to address are:\n",
    "- **Late Aircraft**: reduce turnaround time buffers and delay propagation.\n",
    "- **NAS Delay**: improve airspace management and scheduling.\n",
    "- **Carrier Delay**: optimize crew/aircraft logistics.\n",
    "\n",
    "**Recommendation:**  \n",
    "A mixed strategy is needed:\n",
    "- Prevent major one-time disruptions (weather/security),\n",
    "- Optimize system-wide flow (NAS/Carrier),\n",
    "- Break the chain of propagated delays (Late Aircraft).\n"
   ]
  },
  {
   "cell_type": "code",
   "execution_count": null,
   "id": "0a3eef7a-6759-4dc2-8b0f-adc1913a819e",
   "metadata": {},
   "outputs": [],
   "source": [
    "cursor.execute(\"SELECT COUNT(CarrierDelay), COUNT(WeatherDelay), COUNT(NASDelay), COUNT(SecurityDelay), COUNT(LateAircraftDelay) FROM flight_data\")\n",
    "print(cursor.fetchall())\n"
   ]
  },
  {
   "cell_type": "code",
   "execution_count": null,
   "id": "3fa5bfb5-6907-4dad-be78-3a5935f59f9a",
   "metadata": {},
   "outputs": [],
   "source": []
  },
  {
   "cell_type": "code",
   "execution_count": null,
   "id": "a7060760-c130-4358-9a6b-f43ab4d51007",
   "metadata": {},
   "outputs": [],
   "source": []
  },
  {
   "cell_type": "code",
   "execution_count": null,
   "id": "5000b585-59b2-4faa-9b50-7b6bf884d129",
   "metadata": {},
   "outputs": [],
   "source": []
  },
  {
   "cell_type": "code",
   "execution_count": null,
   "id": "ab8e0b4a-4a8c-4ac0-9382-ce5d1c73b22f",
   "metadata": {},
   "outputs": [],
   "source": []
  },
  {
   "cell_type": "code",
   "execution_count": null,
   "id": "0f4d7026-3fad-4c18-a5cf-f82e3b5f07fe",
   "metadata": {},
   "outputs": [],
   "source": []
  },
  {
   "cell_type": "code",
   "execution_count": null,
   "id": "cfa6ecf0-7527-44e4-bc06-521de54c6d69",
   "metadata": {},
   "outputs": [],
   "source": []
  }
 ],
 "metadata": {
  "kernelspec": {
   "display_name": "Python 3 (ipykernel)",
   "language": "python",
   "name": "python3"
  },
  "language_info": {
   "codemirror_mode": {
    "name": "ipython",
    "version": 3
   },
   "file_extension": ".py",
   "mimetype": "text/x-python",
   "name": "python",
   "nbconvert_exporter": "python",
   "pygments_lexer": "ipython3",
   "version": "3.12.3"
  }
 },
 "nbformat": 4,
 "nbformat_minor": 5
}
